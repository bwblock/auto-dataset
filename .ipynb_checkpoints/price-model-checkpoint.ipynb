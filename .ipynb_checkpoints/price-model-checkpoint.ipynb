{
 "cells": [
  {
   "cell_type": "code",
   "execution_count": 1,
   "id": "0a6d13a0",
   "metadata": {},
   "outputs": [],
   "source": [
    "import numpy as np\n",
    "import pandas as pd\n",
    "import statsmodels.api as sm\n",
    "import matplotlib.pyplot as plt\n",
    "\n",
    "from IPython import display\n",
    "%matplotlib inline\n",
    "\n",
    "from sklearn.linear_model import LinearRegression\n",
    "from sklearn.model_selection import train_test_split\n",
    "from sklearn.metrics import r2_score, mean_squared_error, mean_absolute_error\n",
    "\n",
    "pd.set_option('display.max_columns',85)\n",
    "pd.set_option('display.max_rows',154)\n",
    "\n"
   ]
  },
  {
   "cell_type": "code",
   "execution_count": 2,
   "id": "0ec0a8d6",
   "metadata": {},
   "outputs": [],
   "source": [
    "df = pd.read_csv('./vehicles.csv')"
   ]
  },
  {
   "cell_type": "code",
   "execution_count": 3,
   "id": "949ac5dc",
   "metadata": {},
   "outputs": [
    {
     "data": {
      "text/plain": [
       "(426880, 26)"
      ]
     },
     "execution_count": 3,
     "metadata": {},
     "output_type": "execute_result"
    }
   ],
   "source": [
    "df.shape"
   ]
  },
  {
   "cell_type": "markdown",
   "id": "8ce9e25d",
   "metadata": {},
   "source": [
    "### Drop Irrelevant Columns From Dataframe"
   ]
  },
  {
   "cell_type": "code",
   "execution_count": 4,
   "id": "b852beaf",
   "metadata": {},
   "outputs": [],
   "source": [
    "df = df.drop([\"id\",\"url\",\"region_url\",\"VIN\",\"image_url\",\"county\",\"lat\",\"long\"],axis=1)"
   ]
  },
  {
   "cell_type": "code",
   "execution_count": 5,
   "id": "19ebef5e",
   "metadata": {},
   "outputs": [
    {
     "data": {
      "text/html": [
       "<div>\n",
       "<style scoped>\n",
       "    .dataframe tbody tr th:only-of-type {\n",
       "        vertical-align: middle;\n",
       "    }\n",
       "\n",
       "    .dataframe tbody tr th {\n",
       "        vertical-align: top;\n",
       "    }\n",
       "\n",
       "    .dataframe thead th {\n",
       "        text-align: right;\n",
       "    }\n",
       "</style>\n",
       "<table border=\"1\" class=\"dataframe\">\n",
       "  <thead>\n",
       "    <tr style=\"text-align: right;\">\n",
       "      <th></th>\n",
       "      <th>region</th>\n",
       "      <th>price</th>\n",
       "      <th>year</th>\n",
       "      <th>manufacturer</th>\n",
       "      <th>model</th>\n",
       "      <th>condition</th>\n",
       "      <th>cylinders</th>\n",
       "      <th>fuel</th>\n",
       "      <th>odometer</th>\n",
       "      <th>title_status</th>\n",
       "      <th>transmission</th>\n",
       "      <th>drive</th>\n",
       "      <th>size</th>\n",
       "      <th>type</th>\n",
       "      <th>paint_color</th>\n",
       "      <th>description</th>\n",
       "      <th>state</th>\n",
       "      <th>posting_date</th>\n",
       "    </tr>\n",
       "  </thead>\n",
       "  <tbody>\n",
       "    <tr>\n",
       "      <th>0</th>\n",
       "      <td>prescott</td>\n",
       "      <td>6000</td>\n",
       "      <td>NaN</td>\n",
       "      <td>NaN</td>\n",
       "      <td>NaN</td>\n",
       "      <td>NaN</td>\n",
       "      <td>NaN</td>\n",
       "      <td>NaN</td>\n",
       "      <td>NaN</td>\n",
       "      <td>NaN</td>\n",
       "      <td>NaN</td>\n",
       "      <td>NaN</td>\n",
       "      <td>NaN</td>\n",
       "      <td>NaN</td>\n",
       "      <td>NaN</td>\n",
       "      <td>NaN</td>\n",
       "      <td>az</td>\n",
       "      <td>NaN</td>\n",
       "    </tr>\n",
       "    <tr>\n",
       "      <th>1</th>\n",
       "      <td>fayetteville</td>\n",
       "      <td>11900</td>\n",
       "      <td>NaN</td>\n",
       "      <td>NaN</td>\n",
       "      <td>NaN</td>\n",
       "      <td>NaN</td>\n",
       "      <td>NaN</td>\n",
       "      <td>NaN</td>\n",
       "      <td>NaN</td>\n",
       "      <td>NaN</td>\n",
       "      <td>NaN</td>\n",
       "      <td>NaN</td>\n",
       "      <td>NaN</td>\n",
       "      <td>NaN</td>\n",
       "      <td>NaN</td>\n",
       "      <td>NaN</td>\n",
       "      <td>ar</td>\n",
       "      <td>NaN</td>\n",
       "    </tr>\n",
       "    <tr>\n",
       "      <th>2</th>\n",
       "      <td>florida keys</td>\n",
       "      <td>21000</td>\n",
       "      <td>NaN</td>\n",
       "      <td>NaN</td>\n",
       "      <td>NaN</td>\n",
       "      <td>NaN</td>\n",
       "      <td>NaN</td>\n",
       "      <td>NaN</td>\n",
       "      <td>NaN</td>\n",
       "      <td>NaN</td>\n",
       "      <td>NaN</td>\n",
       "      <td>NaN</td>\n",
       "      <td>NaN</td>\n",
       "      <td>NaN</td>\n",
       "      <td>NaN</td>\n",
       "      <td>NaN</td>\n",
       "      <td>fl</td>\n",
       "      <td>NaN</td>\n",
       "    </tr>\n",
       "    <tr>\n",
       "      <th>3</th>\n",
       "      <td>worcester / central MA</td>\n",
       "      <td>1500</td>\n",
       "      <td>NaN</td>\n",
       "      <td>NaN</td>\n",
       "      <td>NaN</td>\n",
       "      <td>NaN</td>\n",
       "      <td>NaN</td>\n",
       "      <td>NaN</td>\n",
       "      <td>NaN</td>\n",
       "      <td>NaN</td>\n",
       "      <td>NaN</td>\n",
       "      <td>NaN</td>\n",
       "      <td>NaN</td>\n",
       "      <td>NaN</td>\n",
       "      <td>NaN</td>\n",
       "      <td>NaN</td>\n",
       "      <td>ma</td>\n",
       "      <td>NaN</td>\n",
       "    </tr>\n",
       "    <tr>\n",
       "      <th>4</th>\n",
       "      <td>greensboro</td>\n",
       "      <td>4900</td>\n",
       "      <td>NaN</td>\n",
       "      <td>NaN</td>\n",
       "      <td>NaN</td>\n",
       "      <td>NaN</td>\n",
       "      <td>NaN</td>\n",
       "      <td>NaN</td>\n",
       "      <td>NaN</td>\n",
       "      <td>NaN</td>\n",
       "      <td>NaN</td>\n",
       "      <td>NaN</td>\n",
       "      <td>NaN</td>\n",
       "      <td>NaN</td>\n",
       "      <td>NaN</td>\n",
       "      <td>NaN</td>\n",
       "      <td>nc</td>\n",
       "      <td>NaN</td>\n",
       "    </tr>\n",
       "  </tbody>\n",
       "</table>\n",
       "</div>"
      ],
      "text/plain": [
       "                   region  price  year manufacturer model condition cylinders  \\\n",
       "0                prescott   6000   NaN          NaN   NaN       NaN       NaN   \n",
       "1            fayetteville  11900   NaN          NaN   NaN       NaN       NaN   \n",
       "2            florida keys  21000   NaN          NaN   NaN       NaN       NaN   \n",
       "3  worcester / central MA   1500   NaN          NaN   NaN       NaN       NaN   \n",
       "4              greensboro   4900   NaN          NaN   NaN       NaN       NaN   \n",
       "\n",
       "  fuel  odometer title_status transmission drive size type paint_color  \\\n",
       "0  NaN       NaN          NaN          NaN   NaN  NaN  NaN         NaN   \n",
       "1  NaN       NaN          NaN          NaN   NaN  NaN  NaN         NaN   \n",
       "2  NaN       NaN          NaN          NaN   NaN  NaN  NaN         NaN   \n",
       "3  NaN       NaN          NaN          NaN   NaN  NaN  NaN         NaN   \n",
       "4  NaN       NaN          NaN          NaN   NaN  NaN  NaN         NaN   \n",
       "\n",
       "  description state posting_date  \n",
       "0         NaN    az          NaN  \n",
       "1         NaN    ar          NaN  \n",
       "2         NaN    fl          NaN  \n",
       "3         NaN    ma          NaN  \n",
       "4         NaN    nc          NaN  "
      ]
     },
     "execution_count": 5,
     "metadata": {},
     "output_type": "execute_result"
    }
   ],
   "source": [
    "df.head()"
   ]
  },
  {
   "cell_type": "code",
   "execution_count": 6,
   "id": "27789025",
   "metadata": {
    "scrolled": true
   },
   "outputs": [
    {
     "data": {
      "text/html": [
       "<div>\n",
       "<style scoped>\n",
       "    .dataframe tbody tr th:only-of-type {\n",
       "        vertical-align: middle;\n",
       "    }\n",
       "\n",
       "    .dataframe tbody tr th {\n",
       "        vertical-align: top;\n",
       "    }\n",
       "\n",
       "    .dataframe thead th {\n",
       "        text-align: right;\n",
       "    }\n",
       "</style>\n",
       "<table border=\"1\" class=\"dataframe\">\n",
       "  <thead>\n",
       "    <tr style=\"text-align: right;\">\n",
       "      <th></th>\n",
       "      <th>price</th>\n",
       "      <th>year</th>\n",
       "      <th>odometer</th>\n",
       "    </tr>\n",
       "  </thead>\n",
       "  <tbody>\n",
       "    <tr>\n",
       "      <th>count</th>\n",
       "      <td>4.268800e+05</td>\n",
       "      <td>425675.000000</td>\n",
       "      <td>4.224800e+05</td>\n",
       "    </tr>\n",
       "    <tr>\n",
       "      <th>mean</th>\n",
       "      <td>7.519903e+04</td>\n",
       "      <td>2011.235191</td>\n",
       "      <td>9.804333e+04</td>\n",
       "    </tr>\n",
       "    <tr>\n",
       "      <th>std</th>\n",
       "      <td>1.218228e+07</td>\n",
       "      <td>9.452120</td>\n",
       "      <td>2.138815e+05</td>\n",
       "    </tr>\n",
       "    <tr>\n",
       "      <th>min</th>\n",
       "      <td>0.000000e+00</td>\n",
       "      <td>1900.000000</td>\n",
       "      <td>0.000000e+00</td>\n",
       "    </tr>\n",
       "    <tr>\n",
       "      <th>25%</th>\n",
       "      <td>5.900000e+03</td>\n",
       "      <td>2008.000000</td>\n",
       "      <td>3.770400e+04</td>\n",
       "    </tr>\n",
       "    <tr>\n",
       "      <th>50%</th>\n",
       "      <td>1.395000e+04</td>\n",
       "      <td>2013.000000</td>\n",
       "      <td>8.554800e+04</td>\n",
       "    </tr>\n",
       "    <tr>\n",
       "      <th>75%</th>\n",
       "      <td>2.648575e+04</td>\n",
       "      <td>2017.000000</td>\n",
       "      <td>1.335425e+05</td>\n",
       "    </tr>\n",
       "    <tr>\n",
       "      <th>max</th>\n",
       "      <td>3.736929e+09</td>\n",
       "      <td>2022.000000</td>\n",
       "      <td>1.000000e+07</td>\n",
       "    </tr>\n",
       "  </tbody>\n",
       "</table>\n",
       "</div>"
      ],
      "text/plain": [
       "              price           year      odometer\n",
       "count  4.268800e+05  425675.000000  4.224800e+05\n",
       "mean   7.519903e+04    2011.235191  9.804333e+04\n",
       "std    1.218228e+07       9.452120  2.138815e+05\n",
       "min    0.000000e+00    1900.000000  0.000000e+00\n",
       "25%    5.900000e+03    2008.000000  3.770400e+04\n",
       "50%    1.395000e+04    2013.000000  8.554800e+04\n",
       "75%    2.648575e+04    2017.000000  1.335425e+05\n",
       "max    3.736929e+09    2022.000000  1.000000e+07"
      ]
     },
     "execution_count": 6,
     "metadata": {},
     "output_type": "execute_result"
    }
   ],
   "source": [
    "df.describe()"
   ]
  },
  {
   "cell_type": "markdown",
   "id": "aa36e5b8",
   "metadata": {},
   "source": [
    "### Filter Dataset"
   ]
  },
  {
   "cell_type": "code",
   "execution_count": 7,
   "id": "f6ac633d",
   "metadata": {},
   "outputs": [],
   "source": [
    "filters = (df['odometer'] > 999) & (df['odometer'] < 250000) & (df['year'] >= 1965) & (df['year'] < 2021) & (df['price'] > 999) & (df['price'] < 100000) & (df['manufacturer'] != 'harley-davidson')\n"
   ]
  },
  {
   "cell_type": "code",
   "execution_count": 8,
   "id": "53bf356a",
   "metadata": {},
   "outputs": [],
   "source": [
    "df = df[filters]"
   ]
  },
  {
   "cell_type": "code",
   "execution_count": 9,
   "id": "9da7ba8f",
   "metadata": {},
   "outputs": [],
   "source": [
    "def cyl_to_int(c):\n",
    "    if type(c) is str and c != 'other':\n",
    "        return int(c.split(' ')[0])\n",
    "    else:\n",
    "        return None"
   ]
  },
  {
   "cell_type": "code",
   "execution_count": 10,
   "id": "41ce2040",
   "metadata": {},
   "outputs": [],
   "source": [
    "df['cylinders'] = df['cylinders'].apply(cyl_to_int)"
   ]
  },
  {
   "cell_type": "code",
   "execution_count": 12,
   "id": "714a8085",
   "metadata": {},
   "outputs": [],
   "source": [
    "def make_model(make,modl):\n",
    "    if make and modl:\n",
    "        modstr = str(modl).split(\" \")\n",
    "        if len(modstr) > 1:\n",
    "            result = str(make) + \" \" + modstr[0] + \" \" + modstr[1]\n",
    "        else:\n",
    "            result = str(make) + \" \" + modstr[0]  \n",
    "        return result.capitalize()\n",
    "    else:\n",
    "        return None"
   ]
  },
  {
   "cell_type": "code",
   "execution_count": 13,
   "id": "5d14b1e2",
   "metadata": {},
   "outputs": [],
   "source": [
    "df['make_model'] = df.apply(lambda row : make_model(row['manufacturer'],row['model']), axis = 1)"
   ]
  },
  {
   "cell_type": "markdown",
   "id": "f05ca343",
   "metadata": {},
   "source": [
    "### Drop Rows With Missing Values for Key Columns\n"
   ]
  },
  {
   "cell_type": "code",
   "execution_count": 14,
   "id": "cc1785ae",
   "metadata": {},
   "outputs": [],
   "source": [
    "df2 = df.copy()\n",
    "df2 = df2.dropna(how='any',axis=0,subset=['make_model','manufacturer','odometer','year','price','title_status'])"
   ]
  },
  {
   "cell_type": "code",
   "execution_count": 15,
   "id": "df8d9c3b",
   "metadata": {},
   "outputs": [],
   "source": [
    "df3 = df2[['price','manufacturer','condition','cylinders','fuel','odometer','state','type',\n",
    "          'title_status','transmission','drive','size','paint_color','year','make_model']]"
   ]
  },
  {
   "cell_type": "code",
   "execution_count": 16,
   "id": "339814d0",
   "metadata": {},
   "outputs": [],
   "source": [
    "nans = (df3.isnull().sum())"
   ]
  },
  {
   "cell_type": "code",
   "execution_count": 17,
   "id": "10f1f523",
   "metadata": {},
   "outputs": [
    {
     "data": {
      "text/plain": [
       "price                0\n",
       "manufacturer         0\n",
       "condition       130432\n",
       "cylinders       141429\n",
       "fuel              1496\n",
       "odometer             0\n",
       "state                0\n",
       "type             70309\n",
       "title_status         0\n",
       "transmission      1330\n",
       "drive           100760\n",
       "size            245568\n",
       "paint_color      93062\n",
       "year                 0\n",
       "make_model           0\n",
       "dtype: int64"
      ]
     },
     "execution_count": 17,
     "metadata": {},
     "output_type": "execute_result"
    }
   ],
   "source": [
    "nans"
   ]
  },
  {
   "cell_type": "markdown",
   "id": "a762e745",
   "metadata": {},
   "source": [
    "### Impute Missing Values for Remaining Columns"
   ]
  },
  {
   "cell_type": "code",
   "execution_count": 18,
   "id": "465908f8",
   "metadata": {},
   "outputs": [],
   "source": [
    "fill_mode = lambda col: col.fillna(col.mode()[0])\n",
    "\n",
    "df3 = df3.apply(fill_mode, axis=0)\n"
   ]
  },
  {
   "cell_type": "code",
   "execution_count": 19,
   "id": "6fe8d98d",
   "metadata": {},
   "outputs": [],
   "source": [
    "df3 = df3.groupby('make_model').filter(lambda x : len(x)>25)     # drop entries with less than 25 items for 'make_model'"
   ]
  },
  {
   "cell_type": "code",
   "execution_count": 20,
   "id": "3cc3210e",
   "metadata": {},
   "outputs": [],
   "source": [
    "torep = ['Ford f150','Ford f250','Ford f350','Bmw 3','Bmw 5','Bmw 6','Ford f250 super','Ford super duty','Chevrolet silverado 2500hd','Chevrolet silverado','Ford f-250 super','Ford f150 xlt','Ford f150 super','Ram nan','Gmc sierra 2500hd ']\n",
    "vals = ['Ford f-150','Ford f-250','Ford f-350','Bmw 3 series','Bmw 5 series','Bmw 6 series','Ford f-250 supercrew','Ford f-250','Chevrolet silverado 2500','Chevrolet silverado 1500','Ford f-250 supercrew','Ford f-150','Ford f-150 supercrew','Ram 1500','Gmc sierra 2500']"
   ]
  },
  {
   "cell_type": "code",
   "execution_count": 21,
   "id": "7349730c",
   "metadata": {},
   "outputs": [],
   "source": [
    "df3['make_model'].replace(to_replace=torep,value=vals,inplace=True)    # Clean up make_model values"
   ]
  },
  {
   "cell_type": "code",
   "execution_count": 22,
   "id": "2fd95bfd",
   "metadata": {},
   "outputs": [
    {
     "data": {
      "text/plain": [
       "Chevrolet silverado 1500    9899\n",
       "Ford f-150                  8343\n",
       "Ford f-250                  4407\n",
       "Ram 1500                    4159\n",
       "Gmc sierra 1500             3618\n",
       "Name: make_model, dtype: int64"
      ]
     },
     "execution_count": 22,
     "metadata": {},
     "output_type": "execute_result"
    }
   ],
   "source": [
    "df3['make_model'].value_counts().head()"
   ]
  },
  {
   "cell_type": "code",
   "execution_count": 23,
   "id": "e5ca2d56",
   "metadata": {},
   "outputs": [],
   "source": [
    "df_fit = df3.copy()"
   ]
  },
  {
   "cell_type": "markdown",
   "id": "3894d005",
   "metadata": {},
   "source": [
    "### Create Dummies for Categorical Variables"
   ]
  },
  {
   "cell_type": "code",
   "execution_count": 24,
   "id": "abb163a3",
   "metadata": {},
   "outputs": [],
   "source": [
    "cat_df = df_fit.select_dtypes(include='object') \n",
    "#Create a copy of the dataframe\n",
    "cat_df_copy = cat_df.copy()\n",
    "#Pull a list of the column names of the categorical variables\n",
    "cat_cols_lst = cat_df.columns\n",
    "\n",
    "def create_dummy_df(df, cat_cols, dummy_na):\n",
    "    for col in cat_cols:\n",
    "        try:\n",
    "            # for each cat add dummy var, drop original column\n",
    "            df = pd.concat([df.drop(col, axis=1), pd.get_dummies(df[col], prefix=col, prefix_sep='_', drop_first=True, dummy_na=dummy_na)], axis=1)\n",
    "        except:\n",
    "            continue\n",
    "    return df"
   ]
  },
  {
   "cell_type": "code",
   "execution_count": 25,
   "id": "34a90e33",
   "metadata": {},
   "outputs": [
    {
     "data": {
      "text/plain": [
       "(309402, 15)"
      ]
     },
     "execution_count": 25,
     "metadata": {},
     "output_type": "execute_result"
    }
   ],
   "source": [
    "df_fit.shape"
   ]
  },
  {
   "cell_type": "markdown",
   "id": "e5d7b1cb",
   "metadata": {},
   "source": [
    "### Fit Linear Model"
   ]
  },
  {
   "cell_type": "code",
   "execution_count": 26,
   "id": "7dcb301c",
   "metadata": {},
   "outputs": [],
   "source": [
    "def fit_linear_mod(df, response_col, cat_cols, dummy_na, test_size=.3, rand_state=4):\n",
    "\n",
    "    #Dummy categorical variables\n",
    "    df = create_dummy_df(df, cat_cols, dummy_na)\n",
    "    \n",
    "    #Split into explanatory and response variables\n",
    "    X = df.drop(response_col, axis=1)\n",
    "    y = df[response_col]\n",
    "\n",
    "    #Split into train and test\n",
    "    X_train, X_test, y_train, y_test = train_test_split(X, y, test_size=test_size, random_state=rand_state)\n",
    "\n",
    "    lm_model = LinearRegression(normalize=True) # Instantiate\n",
    "    lm_model.fit(X_train, y_train) #Fit\n",
    "\n",
    "    #Predict using model\n",
    "    y_test_preds = lm_model.predict(X_test)\n",
    "    y_train_preds = lm_model.predict(X_train)\n",
    "\n",
    "    #Score using model\n",
    "    test_score = r2_score(y_test, y_test_preds)\n",
    "    train_score = r2_score(y_train, y_train_preds)\n",
    "    mean_abs_err = mean_absolute_error(y_test, y_test_preds)\n",
    "\n",
    "    return mean_abs_err, test_score, train_score, lm_model, X_train, X_test, y_train, y_test\n",
    "\n",
    "#Test function using dataset\n",
    "err, test_score, train_score, lm_model, X_train, X_test, y_train, y_test = fit_linear_mod(df_fit, 'price', cat_cols_lst, dummy_na=False)\n"
   ]
  },
  {
   "cell_type": "markdown",
   "id": "d70d7d8b",
   "metadata": {},
   "source": [
    "### Price Model Results"
   ]
  },
  {
   "cell_type": "code",
   "execution_count": 27,
   "id": "9a287257",
   "metadata": {
    "scrolled": true
   },
   "outputs": [
    {
     "name": "stdout",
     "output_type": "stream",
     "text": [
      "Mean Absolute Error: 3899.24\n",
      "Rsquared score-training data:  0.81503\n",
      "Rsquared score-test data:  0.81267\n"
     ]
    }
   ],
   "source": [
    "print('Mean Absolute Error:', round(err,2))\n",
    "print(\"Rsquared score-training data: \", round(train_score,5))\n",
    "print(\"Rsquared score-test data: \", round(test_score,5))"
   ]
  }
 ],
 "metadata": {
  "kernelspec": {
   "display_name": "Python 3 (ipykernel)",
   "language": "python",
   "name": "python3"
  },
  "language_info": {
   "codemirror_mode": {
    "name": "ipython",
    "version": 3
   },
   "file_extension": ".py",
   "mimetype": "text/x-python",
   "name": "python",
   "nbconvert_exporter": "python",
   "pygments_lexer": "ipython3",
   "version": "3.9.7"
  }
 },
 "nbformat": 4,
 "nbformat_minor": 5
}
